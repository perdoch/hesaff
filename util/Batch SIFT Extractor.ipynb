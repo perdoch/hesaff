{
 "cells": [
  {
   "cell_type": "markdown",
   "metadata": {},
   "source": [
    "# Batch SIFT Extractor\n",
    "\n",
    "## Requirement\n",
    "\n",
    "* Python3\n",
    "\n"
   ]
  },
  {
   "cell_type": "code",
   "execution_count": null,
   "metadata": {},
   "outputs": [],
   "source": [
    "import os\n",
    "print(os.getcwd())\n",
    "# DATA_DIR_OXF5K = \"../../../data/oxf5k_images\" # 5062 images\n",
    "# OUTPUT_DIR = \"../../../data/oxf5k_hesaff/\"\n",
    "\n",
    "# DATA_DIR_OXF100K = \"../data/oxford/oxc1_100k\" # The Flickr 100k dataset consists of 100071 images collected from Flickr by searching for popular Flickr tags. \n",
    "# 5602 + 100071 = 105,673\n",
    "\n",
    "DATA_DIR_PAR6K = \"../../../data/paris6k_images\" # 6392 images\n",
    "OUTPUT_DIR = \"../../../data/paris6k_hesaff/\"\n",
    "\n",
    "if not os.path.exists(OUTPUT_DIR):\n",
    "    os.mkdir(OUTPUT_DIR)\n",
    "\n",
    "def get_images(data_dir):\n",
    "    image_paths = []\n",
    "    for parent_dir, _, files in os.walk(data_dir):\n",
    "        # print(parent_dir)\n",
    "        for f in files:\n",
    "            # print(f)\n",
    "            if f[-4:] == \".jpg\":\n",
    "                image_paths.append(os.path.abspath(os.path.join(parent_dir, f)))\n",
    "            else:\n",
    "                print(\"skip:\", f)\n",
    "    # filenames = os.listdir(data_dir)   \n",
    "    # image_paths = list(map(lambda x: os.path.join(data_dir, x), filenames))\n",
    "    return image_paths\n",
    "\n",
    "image_list = get_images(DATA_DIR_PAR6K)\n",
    "# image_list = get_images(DATA_DIR_OXF5K)\n",
    "# image_list = get_images(DATA_DIR_OXF5K) + get_images(DATA_DIR_OXF100K)\n",
    "image_list.sort()\n",
    "\n",
    "for i in image_list[:5]:\n",
    "    print(i)\n",
    "print(len(image_list))"
   ]
  },
  {
   "cell_type": "code",
   "execution_count": null,
   "metadata": {},
   "outputs": [],
   "source": [
    "import subprocess\n",
    "from subprocess import CalledProcessError\n",
    "import numpy as np\n",
    "import shutil\n",
    "# from tqdm import tqdm_notebook as tqdm\n",
    "from tqdm import tqdm\n",
    "\n",
    "from multiprocessing import Pool\n",
    "\n",
    "def extract_sift(image_path):\n",
    "    try:\n",
    "        output = subprocess.check_output([\"../hesaff\", \"{}\".format(image_path)])\n",
    "        # print('stdout of hesaff:', output)\n",
    "    except CalledProcessError as e:       \n",
    "        print(e)\n",
    "        print(\"output: {}\".format(e.output.decode('utf-8')))   \n",
    "    \n",
    "\n",
    "\n",
    "def parallel_task(image_path):\n",
    "    extract_sift(image_path)\n",
    "    sift_file_path = image_path + \".hesaff.sift\"\n",
    "    sift_file_name = os.path.basename(sift_file_path)\n",
    "    shutil.move(sift_file_path, os.path.join(OUTPUT_DIR, sift_file_name))\n",
    "\n",
    "if __name__ == '__main__':\n",
    "    pool = Pool(processes=40)\n",
    "    for result in tqdm(pool.imap_unordered(parallel_task, image_list), total=len(image_list)):\n",
    "        pass\n",
    "    # features.append(result)\n",
    "    \n",
    "# Timing history: 100k images took about 1h 20m for feature extraction. \n",
    "\n",
    "# hesaff speed: 31 images / sec, 32 ms / image"
   ]
  }
 ],
 "metadata": {
  "kernelspec": {
   "display_name": "Python 3",
   "language": "python",
   "name": "python3"
  },
  "language_info": {
   "codemirror_mode": {
    "name": "ipython",
    "version": 3
   },
   "file_extension": ".py",
   "mimetype": "text/x-python",
   "name": "python",
   "nbconvert_exporter": "python",
   "pygments_lexer": "ipython3",
   "version": "3.6.4"
  }
 },
 "nbformat": 4,
 "nbformat_minor": 2
}
